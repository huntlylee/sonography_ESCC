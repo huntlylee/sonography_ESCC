{
 "cells": [
  {
   "cell_type": "code",
   "execution_count": 1,
   "id": "d248b593-3f07-4f23-b34b-42d20081f3c5",
   "metadata": {},
   "outputs": [],
   "source": [
    "import numpy as np\n",
    "# import matplotlib.pyplot as plt\n",
    "import pandas as pd\n",
    "import xgboost as xgb\n",
    "import lightgbm as lgb\n",
    "from sklearn.ensemble import RandomForestClassifier\n",
    "from sklearn.linear_model import LogisticRegression\n",
    "import joblib"
   ]
  },
  {
   "cell_type": "code",
   "execution_count": 2,
   "id": "6efbb0fc-5e3d-4fb0-bf3a-3ee04efaa16e",
   "metadata": {},
   "outputs": [],
   "source": [
    "''' Please define the required variables below '''\n",
    "\n",
    "\n",
    "''' To replace the value with your own indicator in each item below '''\n",
    "\n",
    "user_indicators = {'Sex': [0], # Patient's biological gender: 0 for Female and 1 for Male\n",
    "                   'Age': [45], # Patient's age (year)\n",
    "                   'Smokers': [1], # If patient has history of smoking: 0 for non-smoker and 1 for smoker\n",
    "                   'Alcohol': [1], # If patient has history of drinking alcohol: 0 for no and 1 for yes\n",
    "                   'Cancer_family': [0], # If patient has family history of cancer: 0 for no and 1 for yes\n",
    "                   'Distance': [25], # Distance between the upper edge of the tumor and the upper incisor (cm)\n",
    "                   'T': [3], # Pathologic T stage of tumor: 1, 2, 3, 4\n",
    "                   'Size': [4.5], # Tumor's maximum diameter measured through CT (preferred) or endoscopic ultrasonography (cm)\n",
    "                   'Diameter': [0], # Maximum diameter of the largest cervical lymph node showing indications of metastasis (mm), 0 if none suspected\n",
    "                   }\n",
    "\n",
    "''' To select a model. \n",
    "\n",
    "Options: XGB, LGB, LR, RF, KNN, SVM\n",
    "\n",
    "Default: RF\n",
    "\n",
    "'''\n",
    "model_name = 'RF' "
   ]
  },
  {
   "cell_type": "code",
   "execution_count": 3,
   "id": "7d156c0d-f837-403c-85ef-b8d905193838",
   "metadata": {},
   "outputs": [],
   "source": [
    "''' Just run everything below without any change '''\n",
    "\n",
    "# Define model threshold (Do Not Change!)\n",
    "\n",
    "thresholds = {'LGB': 0.277,\n",
    "              'XGB': 0.396,\n",
    "              'RF': 0.476,\n",
    "              'LR': 0.574,   \n",
    "              'KNN': 0.425,\n",
    "              'SVM': 0.316\n",
    "}"
   ]
  },
  {
   "cell_type": "code",
   "execution_count": 4,
   "id": "3be3b3ad-faf4-4dea-aeff-e8a9183612ad",
   "metadata": {},
   "outputs": [],
   "source": [
    "# Data Preprocessing\n",
    "\n",
    "df = pd.DataFrame.from_dict(user_indicators)\n"
   ]
  },
  {
   "cell_type": "code",
   "execution_count": 5,
   "id": "f1ec8846-c409-4863-9daa-8d9fa5bae619",
   "metadata": {},
   "outputs": [
    {
     "name": "stdout",
     "output_type": "stream",
     "text": [
      "The risk of cervical nodal metastasis is estimated to be: 53.4%\n",
      "Recommend further evaluation, may require neoadjuvant therapy or cervical lymphadenectomy.\n"
     ]
    }
   ],
   "source": [
    "# Prediction\n",
    "\n",
    "clf = joblib.load(r'Pre-trained models\\{}.pkl'.format(model_name))\n",
    "threshold = thresholds[model_name]\n",
    "\n",
    "risk = clf.predict_proba(df.values)[0,1]\n",
    "\n",
    "if risk>=threshold:\n",
    "    print('The risk of cervical nodal metastasis is estimated to be: {:.1%}\\nRecommend further evaluation, may require neoadjuvant therapy or cervical lymphadenectomy.'.format(risk))\n",
    "else:\n",
    "    print('The risk of cervical nodal metastasis is estimated to be: {:.1%}\\nMay consider standard surgery sparing cervical lymphadenectomy'.format(risk))"
   ]
  }
 ],
 "metadata": {
  "kernelspec": {
   "display_name": "Python 3 (ipykernel)",
   "language": "python",
   "name": "python3"
  },
  "language_info": {
   "codemirror_mode": {
    "name": "ipython",
    "version": 3
   },
   "file_extension": ".py",
   "mimetype": "text/x-python",
   "name": "python",
   "nbconvert_exporter": "python",
   "pygments_lexer": "ipython3",
   "version": "3.12.5"
  }
 },
 "nbformat": 4,
 "nbformat_minor": 5
}
